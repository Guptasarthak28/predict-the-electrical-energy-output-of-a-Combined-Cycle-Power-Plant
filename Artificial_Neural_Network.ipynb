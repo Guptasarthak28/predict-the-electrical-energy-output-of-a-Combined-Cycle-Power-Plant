{
  "nbformat": 4,
  "nbformat_minor": 0,
  "metadata": {
    "colab": {
      "provenance": []
    },
    "kernelspec": {
      "name": "python3",
      "display_name": "Python 3"
    }
  },
  "cells": [
    {
      "cell_type": "markdown",
      "metadata": {
        "id": "3cbb7fRy-eyr"
      },
      "source": [
        "# Artificial Neural Network"
      ]
    },
    {
      "cell_type": "markdown",
      "metadata": {
        "id": "8sNDnxE2-pwE"
      },
      "source": [
        "### Importing the libraries"
      ]
    },
    {
      "cell_type": "code",
      "source": [
        "import numpy as np\n",
        "import pandas as pd\n",
        "import tensorflow as tf"
      ],
      "metadata": {
        "id": "zsybfqgYDrCj"
      },
      "execution_count": 12,
      "outputs": []
    },
    {
      "cell_type": "code",
      "metadata": {
        "id": "uBTqR3nacj0e",
        "colab": {
          "base_uri": "https://localhost:8080/",
          "height": 36
        },
        "outputId": "3a4f3658-78d4-4fff-ce72-a35b72bbacc1"
      },
      "source": [
        "tf.__version__"
      ],
      "execution_count": 13,
      "outputs": [
        {
          "output_type": "execute_result",
          "data": {
            "text/plain": [
              "'2.15.0'"
            ],
            "application/vnd.google.colaboratory.intrinsic+json": {
              "type": "string"
            }
          },
          "metadata": {},
          "execution_count": 13
        }
      ]
    },
    {
      "cell_type": "markdown",
      "metadata": {
        "id": "AG3FQEch-yuA"
      },
      "source": [
        "## Part 1 - Data Preprocessing"
      ]
    },
    {
      "cell_type": "markdown",
      "metadata": {
        "id": "-4zq8Mza_D9O"
      },
      "source": [
        "### Importing the dataset"
      ]
    },
    {
      "cell_type": "code",
      "metadata": {
        "id": "B9CV13Co_HHM"
      },
      "source": [
        "dataset = pd.read_excel('Folds5x2_pp.xlsx')\n",
        "X = dataset.iloc[:, :-1].values\n",
        "y = dataset.iloc[:, -1].values"
      ],
      "execution_count": 14,
      "outputs": []
    },
    {
      "cell_type": "markdown",
      "metadata": {
        "id": "VC6omXel_Up0"
      },
      "source": [
        "### Splitting the dataset into the Training set and Test set"
      ]
    },
    {
      "cell_type": "code",
      "metadata": {
        "id": "L5edeb2r_agx"
      },
      "source": [
        "from sklearn.model_selection import train_test_split\n",
        "X_train, X_test, y_train, y_test = train_test_split(X, y, test_size = 0.2, random_state = 0)"
      ],
      "execution_count": 15,
      "outputs": []
    },
    {
      "cell_type": "markdown",
      "metadata": {
        "id": "_mSLlAT9_eyI"
      },
      "source": [
        "## Part 2 - Building the ANN"
      ]
    },
    {
      "cell_type": "markdown",
      "metadata": {
        "id": "CsBULd_f_wLY"
      },
      "source": [
        "### Initializing the ANN"
      ]
    },
    {
      "cell_type": "code",
      "source": [
        "ann = tf.keras.models.Sequential()"
      ],
      "metadata": {
        "id": "vF0zUB1sFmUc"
      },
      "execution_count": 16,
      "outputs": []
    },
    {
      "cell_type": "markdown",
      "metadata": {
        "id": "iitAFJS_ABUn"
      },
      "source": [
        "### Adding the input layer and the first hidden layer"
      ]
    },
    {
      "cell_type": "code",
      "source": [
        "ann.add(tf.keras.layers.Dense(units = 6, activation = 'relu'))"
      ],
      "metadata": {
        "id": "H6p3l_GSGtnU"
      },
      "execution_count": 17,
      "outputs": []
    },
    {
      "cell_type": "markdown",
      "metadata": {
        "id": "-lb4kK_wAKbs"
      },
      "source": [
        "### Adding the second hidden layer"
      ]
    },
    {
      "cell_type": "code",
      "source": [
        "ann.add(tf.keras.layers.Dense(units = 6, activation = 'relu'))"
      ],
      "metadata": {
        "id": "8r8WUtYXHdGm"
      },
      "execution_count": 18,
      "outputs": []
    },
    {
      "cell_type": "markdown",
      "metadata": {
        "id": "jwMOmKb3AdBY"
      },
      "source": [
        "### Adding the output layer"
      ]
    },
    {
      "cell_type": "code",
      "source": [
        "ann.add(tf.keras.layers.Dense(units = 1, activation  = 'relu'))"
      ],
      "metadata": {
        "id": "xGszdzzXHqmK"
      },
      "execution_count": 19,
      "outputs": []
    },
    {
      "cell_type": "markdown",
      "metadata": {
        "id": "fq7e4fF6A1yy"
      },
      "source": [
        "## Part 3 - Training the ANN"
      ]
    },
    {
      "cell_type": "markdown",
      "metadata": {
        "id": "qDeylAs2An25"
      },
      "source": [
        "### Compiling the ANN"
      ]
    },
    {
      "cell_type": "code",
      "source": [
        "ann.compile(optimizer = 'adam', loss = 'mean_squared_error')"
      ],
      "metadata": {
        "id": "AFYWf2CaH_xz"
      },
      "execution_count": 20,
      "outputs": []
    },
    {
      "cell_type": "markdown",
      "metadata": {
        "id": "YjVuiybYOo7r"
      },
      "source": [
        "### Training the ANN model on the Training set"
      ]
    },
    {
      "cell_type": "code",
      "source": [
        "ann.fit(X_train, y_train, batch_size = 32, epochs = 100)"
      ],
      "metadata": {
        "colab": {
          "base_uri": "https://localhost:8080/"
        },
        "id": "gZ9Rg9XyIkZu",
        "outputId": "24927443-5d88-4274-9ffd-01ad4ec053db"
      },
      "execution_count": 21,
      "outputs": [
        {
          "output_type": "stream",
          "name": "stdout",
          "text": [
            "Epoch 1/100\n",
            "240/240 [==============================] - 2s 2ms/step - loss: 77647.0547\n",
            "Epoch 2/100\n",
            "240/240 [==============================] - 1s 3ms/step - loss: 1880.8848\n",
            "Epoch 3/100\n",
            "240/240 [==============================] - 1s 2ms/step - loss: 1598.1885\n",
            "Epoch 4/100\n",
            "240/240 [==============================] - 1s 3ms/step - loss: 1484.8157\n",
            "Epoch 5/100\n",
            "240/240 [==============================] - 1s 2ms/step - loss: 1359.6770\n",
            "Epoch 6/100\n",
            "240/240 [==============================] - 0s 2ms/step - loss: 1236.0769\n",
            "Epoch 7/100\n",
            "240/240 [==============================] - 0s 2ms/step - loss: 1109.6155\n",
            "Epoch 8/100\n",
            "240/240 [==============================] - 0s 2ms/step - loss: 980.0677\n",
            "Epoch 9/100\n",
            "240/240 [==============================] - 0s 2ms/step - loss: 849.7502\n",
            "Epoch 10/100\n",
            "240/240 [==============================] - 0s 2ms/step - loss: 719.6768\n",
            "Epoch 11/100\n",
            "240/240 [==============================] - 0s 2ms/step - loss: 591.0913\n",
            "Epoch 12/100\n",
            "240/240 [==============================] - 0s 2ms/step - loss: 460.9996\n",
            "Epoch 13/100\n",
            "240/240 [==============================] - 0s 2ms/step - loss: 341.0412\n",
            "Epoch 14/100\n",
            "240/240 [==============================] - 0s 2ms/step - loss: 227.8371\n",
            "Epoch 15/100\n",
            "240/240 [==============================] - 0s 2ms/step - loss: 143.0676\n",
            "Epoch 16/100\n",
            "240/240 [==============================] - 0s 2ms/step - loss: 87.7166\n",
            "Epoch 17/100\n",
            "240/240 [==============================] - 0s 2ms/step - loss: 59.0522\n",
            "Epoch 18/100\n",
            "240/240 [==============================] - 1s 4ms/step - loss: 46.0286\n",
            "Epoch 19/100\n",
            "240/240 [==============================] - 0s 2ms/step - loss: 39.0963\n",
            "Epoch 20/100\n",
            "240/240 [==============================] - 0s 2ms/step - loss: 35.0811\n",
            "Epoch 21/100\n",
            "240/240 [==============================] - 0s 2ms/step - loss: 32.7646\n",
            "Epoch 22/100\n",
            "240/240 [==============================] - 0s 2ms/step - loss: 29.8577\n",
            "Epoch 23/100\n",
            "240/240 [==============================] - 0s 2ms/step - loss: 28.6481\n",
            "Epoch 24/100\n",
            "240/240 [==============================] - 0s 2ms/step - loss: 27.6018\n",
            "Epoch 25/100\n",
            "240/240 [==============================] - 0s 2ms/step - loss: 27.0810\n",
            "Epoch 26/100\n",
            "240/240 [==============================] - 0s 2ms/step - loss: 27.2507\n",
            "Epoch 27/100\n",
            "240/240 [==============================] - 0s 2ms/step - loss: 27.4242\n",
            "Epoch 28/100\n",
            "240/240 [==============================] - 1s 2ms/step - loss: 26.6754\n",
            "Epoch 29/100\n",
            "240/240 [==============================] - 1s 2ms/step - loss: 26.4493\n",
            "Epoch 30/100\n",
            "240/240 [==============================] - 1s 2ms/step - loss: 28.0162\n",
            "Epoch 31/100\n",
            "240/240 [==============================] - 1s 2ms/step - loss: 27.2313\n",
            "Epoch 32/100\n",
            "240/240 [==============================] - 1s 2ms/step - loss: 26.5063\n",
            "Epoch 33/100\n",
            "240/240 [==============================] - 1s 3ms/step - loss: 26.8841\n",
            "Epoch 34/100\n",
            "240/240 [==============================] - 1s 2ms/step - loss: 27.3987\n",
            "Epoch 35/100\n",
            "240/240 [==============================] - 0s 2ms/step - loss: 26.7021\n",
            "Epoch 36/100\n",
            "240/240 [==============================] - 0s 2ms/step - loss: 27.4173\n",
            "Epoch 37/100\n",
            "240/240 [==============================] - 0s 2ms/step - loss: 27.4329\n",
            "Epoch 38/100\n",
            "240/240 [==============================] - 0s 2ms/step - loss: 27.3831\n",
            "Epoch 39/100\n",
            "240/240 [==============================] - 0s 2ms/step - loss: 27.2519\n",
            "Epoch 40/100\n",
            "240/240 [==============================] - 0s 2ms/step - loss: 27.7409\n",
            "Epoch 41/100\n",
            "240/240 [==============================] - 0s 2ms/step - loss: 26.7803\n",
            "Epoch 42/100\n",
            "240/240 [==============================] - 0s 2ms/step - loss: 27.0892\n",
            "Epoch 43/100\n",
            "240/240 [==============================] - 0s 2ms/step - loss: 27.3355\n",
            "Epoch 44/100\n",
            "240/240 [==============================] - 0s 2ms/step - loss: 26.6967\n",
            "Epoch 45/100\n",
            "240/240 [==============================] - 0s 2ms/step - loss: 26.7780\n",
            "Epoch 46/100\n",
            "240/240 [==============================] - 0s 2ms/step - loss: 26.9266\n",
            "Epoch 47/100\n",
            "240/240 [==============================] - 1s 2ms/step - loss: 27.9051\n",
            "Epoch 48/100\n",
            "240/240 [==============================] - 1s 2ms/step - loss: 27.4458\n",
            "Epoch 49/100\n",
            "240/240 [==============================] - 1s 2ms/step - loss: 27.9943\n",
            "Epoch 50/100\n",
            "240/240 [==============================] - 1s 2ms/step - loss: 26.5548\n",
            "Epoch 51/100\n",
            "240/240 [==============================] - 1s 2ms/step - loss: 27.0452\n",
            "Epoch 52/100\n",
            "240/240 [==============================] - 1s 2ms/step - loss: 27.9163\n",
            "Epoch 53/100\n",
            "240/240 [==============================] - 1s 2ms/step - loss: 26.8992\n",
            "Epoch 54/100\n",
            "240/240 [==============================] - 1s 3ms/step - loss: 27.3149\n",
            "Epoch 55/100\n",
            "240/240 [==============================] - 1s 2ms/step - loss: 27.7186\n",
            "Epoch 56/100\n",
            "240/240 [==============================] - 1s 2ms/step - loss: 27.7945\n",
            "Epoch 57/100\n",
            "240/240 [==============================] - 1s 3ms/step - loss: 27.1132\n",
            "Epoch 58/100\n",
            "240/240 [==============================] - 1s 3ms/step - loss: 27.2895\n",
            "Epoch 59/100\n",
            "240/240 [==============================] - 1s 3ms/step - loss: 26.7653\n",
            "Epoch 60/100\n",
            "240/240 [==============================] - 1s 2ms/step - loss: 26.5496\n",
            "Epoch 61/100\n",
            "240/240 [==============================] - 1s 3ms/step - loss: 27.0083\n",
            "Epoch 62/100\n",
            "240/240 [==============================] - 0s 2ms/step - loss: 27.1734\n",
            "Epoch 63/100\n",
            "240/240 [==============================] - 0s 2ms/step - loss: 27.2581\n",
            "Epoch 64/100\n",
            "240/240 [==============================] - 0s 2ms/step - loss: 27.0007\n",
            "Epoch 65/100\n",
            "240/240 [==============================] - 0s 2ms/step - loss: 27.0528\n",
            "Epoch 66/100\n",
            "240/240 [==============================] - 0s 2ms/step - loss: 27.1670\n",
            "Epoch 67/100\n",
            "240/240 [==============================] - 0s 2ms/step - loss: 27.4318\n",
            "Epoch 68/100\n",
            "240/240 [==============================] - 0s 2ms/step - loss: 27.6158\n",
            "Epoch 69/100\n",
            "240/240 [==============================] - 0s 2ms/step - loss: 27.5476\n",
            "Epoch 70/100\n",
            "240/240 [==============================] - 0s 2ms/step - loss: 27.3836\n",
            "Epoch 71/100\n",
            "240/240 [==============================] - 0s 2ms/step - loss: 27.0515\n",
            "Epoch 72/100\n",
            "240/240 [==============================] - 0s 2ms/step - loss: 26.8185\n",
            "Epoch 73/100\n",
            "240/240 [==============================] - 0s 2ms/step - loss: 26.8278\n",
            "Epoch 74/100\n",
            "240/240 [==============================] - 0s 2ms/step - loss: 27.9002\n",
            "Epoch 75/100\n",
            "240/240 [==============================] - 0s 2ms/step - loss: 27.1399\n",
            "Epoch 76/100\n",
            "240/240 [==============================] - 0s 2ms/step - loss: 27.6534\n",
            "Epoch 77/100\n",
            "240/240 [==============================] - 0s 2ms/step - loss: 27.3935\n",
            "Epoch 78/100\n",
            "240/240 [==============================] - 0s 2ms/step - loss: 26.9157\n",
            "Epoch 79/100\n",
            "240/240 [==============================] - 0s 2ms/step - loss: 26.5237\n",
            "Epoch 80/100\n",
            "240/240 [==============================] - 0s 2ms/step - loss: 27.2739\n",
            "Epoch 81/100\n",
            "240/240 [==============================] - 0s 2ms/step - loss: 27.1864\n",
            "Epoch 82/100\n",
            "240/240 [==============================] - 0s 2ms/step - loss: 27.0971\n",
            "Epoch 83/100\n",
            "240/240 [==============================] - 0s 2ms/step - loss: 26.7952\n",
            "Epoch 84/100\n",
            "240/240 [==============================] - 0s 2ms/step - loss: 28.1774\n",
            "Epoch 85/100\n",
            "240/240 [==============================] - 0s 2ms/step - loss: 28.1282\n",
            "Epoch 86/100\n",
            "240/240 [==============================] - 1s 3ms/step - loss: 26.7301\n",
            "Epoch 87/100\n",
            "240/240 [==============================] - 1s 2ms/step - loss: 27.1740\n",
            "Epoch 88/100\n",
            "240/240 [==============================] - 1s 2ms/step - loss: 26.4359\n",
            "Epoch 89/100\n",
            "240/240 [==============================] - 1s 3ms/step - loss: 27.1938\n",
            "Epoch 90/100\n",
            "240/240 [==============================] - 1s 3ms/step - loss: 27.4473\n",
            "Epoch 91/100\n",
            "240/240 [==============================] - 1s 3ms/step - loss: 26.8195\n",
            "Epoch 92/100\n",
            "240/240 [==============================] - 1s 3ms/step - loss: 26.8697\n",
            "Epoch 93/100\n",
            "240/240 [==============================] - 0s 2ms/step - loss: 27.4715\n",
            "Epoch 94/100\n",
            "240/240 [==============================] - 0s 2ms/step - loss: 26.7858\n",
            "Epoch 95/100\n",
            "240/240 [==============================] - 0s 2ms/step - loss: 26.9479\n",
            "Epoch 96/100\n",
            "240/240 [==============================] - 0s 2ms/step - loss: 26.7486\n",
            "Epoch 97/100\n",
            "240/240 [==============================] - 0s 2ms/step - loss: 27.8710\n",
            "Epoch 98/100\n",
            "240/240 [==============================] - 0s 2ms/step - loss: 27.4428\n",
            "Epoch 99/100\n",
            "240/240 [==============================] - 0s 2ms/step - loss: 26.8183\n",
            "Epoch 100/100\n",
            "240/240 [==============================] - 0s 2ms/step - loss: 26.6229\n"
          ]
        },
        {
          "output_type": "execute_result",
          "data": {
            "text/plain": [
              "<keras.src.callbacks.History at 0x7f78fcbd1150>"
            ]
          },
          "metadata": {},
          "execution_count": 21
        }
      ]
    },
    {
      "cell_type": "markdown",
      "metadata": {
        "id": "0H0zKKNEBLD5"
      },
      "source": [
        "### Predicting the results of the Test set"
      ]
    },
    {
      "cell_type": "code",
      "source": [
        "y_pred = ann.predict(X_test)\n",
        "np.set_printoptions(precision = 2)\n",
        "print(np.concatenate((y_pred.reshape(len(y_pred), 1), y_test.reshape(len(y_test), 1)), 1))\n"
      ],
      "metadata": {
        "colab": {
          "base_uri": "https://localhost:8080/"
        },
        "id": "k4rPzTqPI9c1",
        "outputId": "9d40dbd4-1a67-4db4-8173-29245df0557c"
      },
      "execution_count": 22,
      "outputs": [
        {
          "output_type": "stream",
          "name": "stdout",
          "text": [
            "60/60 [==============================] - 0s 1ms/step\n",
            "[[431.86 431.23]\n",
            " [462.83 460.01]\n",
            " [466.31 461.14]\n",
            " ...\n",
            " [473.58 473.26]\n",
            " [440.35 438.  ]\n",
            " [459.57 463.28]]\n"
          ]
        }
      ]
    }
  ]
}